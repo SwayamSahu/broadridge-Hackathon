{
 "cells": [
  {
   "cell_type": "code",
   "execution_count": 54,
   "id": "13ecaea9",
   "metadata": {},
   "outputs": [
    {
     "name": "stdout",
     "output_type": "stream",
     "text": [
      "Defaulting to user installation because normal site-packages is not writeable\n",
      "Requirement already satisfied: beautifulsoup4 in c:\\programdata\\anaconda3\\lib\\site-packages (4.11.1)\n",
      "Requirement already satisfied: soupsieve>1.2 in c:\\programdata\\anaconda3\\lib\\site-packages (from beautifulsoup4) (2.3.2.post1)\n"
     ]
    }
   ],
   "source": [
    "! pip install beautifulsoup4"
   ]
  },
  {
   "cell_type": "code",
   "execution_count": 55,
   "id": "08f608cc",
   "metadata": {},
   "outputs": [
    {
     "name": "stdout",
     "output_type": "stream",
     "text": [
      "Defaulting to user installation because normal site-packages is not writeable\n",
      "Requirement already satisfied: requests in c:\\programdata\\anaconda3\\lib\\site-packages (2.28.1)\n",
      "Requirement already satisfied: certifi>=2017.4.17 in c:\\programdata\\anaconda3\\lib\\site-packages (from requests) (2022.12.7)\n",
      "Requirement already satisfied: charset-normalizer<3,>=2 in c:\\programdata\\anaconda3\\lib\\site-packages (from requests) (2.0.4)\n",
      "Requirement already satisfied: idna<4,>=2.5 in c:\\programdata\\anaconda3\\lib\\site-packages (from requests) (3.4)\n",
      "Requirement already satisfied: urllib3<1.27,>=1.21.1 in c:\\programdata\\anaconda3\\lib\\site-packages (from requests) (1.26.14)\n"
     ]
    }
   ],
   "source": [
    "! pip install requests"
   ]
  },
  {
   "cell_type": "code",
   "execution_count": 59,
   "id": "92b37c1d",
   "metadata": {},
   "outputs": [
    {
     "name": "stdout",
     "output_type": "stream",
     "text": [
      "Title: Machine Learning: What It is, Tutorial, Definition, Types - Javatpoint\n",
      "Paragraphs:\n",
      "Machine Learning tutorial provides basic and advanced concepts of machine learning. Our machine learning tutorial is designed for students and working professionals.\n",
      "Machine learning is a growing technology which enables computers to learn automatically from past data. Machine learning uses various algorithms for building mathematical models and making predictions using historical data or information. Currently, it is being used for various tasks such as image recognition, speech recognition, email filtering, Facebook auto-tagging, recommender system, and many more.\n",
      "This machine learning tutorial gives you an introduction to machine learning along with the wide range of machine learning techniques such as Supervised, Unsupervised, and Reinforcement learning. You will learn about regression and classification models, clustering methods, hidden Markov models, and various sequential models.\n",
      "In the real world, we are surrounded by humans who can learn everything from their experiences with their learning capability, and we have computers or machines which work on our instructions. But can a machine also learn from experiences or past data like a human does? So here comes the role of Machine Learning.\n",
      "Machine Learning is said as a subset of artificial intelligence that is mainly concerned with the development of algorithms which allow a computer to learn from the data and past experiences on their own. The term machine learning was first introduced by Arthur Samuel in 1959. We can define it in a summarized way as:\n",
      "With the help of sample historical data, which is known as training data, machine learning algorithms build a mathematical model that helps in making predictions or decisions without being explicitly programmed. Machine learning brings computer science and statistics together for creating predictive models. Machine learning constructs or uses the algorithms that learn from historical data. The more we will provide the information, the higher will be the performance.\n",
      "A machine has the ability to learn if it can improve its performance by gaining more data.\n",
      "A Machine Learning system learns from historical data, builds the prediction models, and whenever it receives new data, predicts the output for it. The accuracy of predicted output depends upon the amount of data, as the huge amount of data helps to build a better model which predicts the output more accurately.\n",
      "Suppose we have a complex problem, where we need to perform some predictions, so instead of writing a code for it, we just need to feed the data to generic algorithms, and with the help of these algorithms, machine builds the logic as per the data and predict the output. Machine learning has changed our way of thinking about the problem. The below block diagram explains the working of Machine Learning algorithm:\n",
      "The need for machine learning is increasing day by day. The reason behind the need for machine learning is that it is capable of doing tasks that are too complex for a person to implement directly. As a human, we have some limitations as we cannot access the huge amount of data manually, so for this, we need some computer systems and here comes the machine learning to make things easy for us.\n",
      "We can train machine learning algorithms by providing them the huge amount of data and let them explore the data, construct the models, and predict the required output automatically. The performance of the machine learning algorithm depends on the amount of data, and it can be determined by the cost function. With the help of machine learning, we can save both time and money.\n",
      "The importance of machine learning can be easily understood by its uses cases, Currently, machine learning is used in self-driving cars, cyber fraud detection, face recognition, and friend suggestion by Facebook, etc. Various top companies such as Netflix and Amazon have build machine learning models that are using a vast amount of data to analyze the user interest and recommend product accordingly.\n",
      "Following are some key points which show the importance of Machine Learning:\n",
      "At a broad level, machine learning can be classified into three types:\n",
      "Supervised learning is a type of machine learning method in which we provide sample labeled data to the machine learning system in order to train it, and on that basis, it predicts the output.\n",
      "The system creates a model using labeled data to understand the datasets and learn about each data, once the training and processing are done then we test the model by providing a sample data to check whether it is predicting the exact output or not.\n",
      "The goal of supervised learning is to map input data with the output data. The supervised learning is based on supervision, and it is the same as when a student learns things in the supervision of the teacher. The example of supervised learning is spam filtering.\n",
      "Supervised learning can be grouped further in two categories of algorithms:\n",
      "Unsupervised learning is a learning method in which a machine learns without any supervision.\n",
      "The training is provided to the machine with the set of data that has not been labeled, classified, or categorized, and the algorithm needs to act on that data without any supervision. The goal of unsupervised learning is to restructure the input data into new features or a group of objects with similar patterns.\n",
      "In unsupervised learning, we don't have a predetermined result. The machine tries to find useful insights from the huge amount of data. It can be further classifieds into two categories of algorithms:\n",
      "Reinforcement learning is a feedback-based learning method, in which a learning agent gets a reward for each right action and gets a penalty for each wrong action. The agent learns automatically with these feedbacks and improves its performance. In reinforcement learning, the agent interacts with the environment and explores it. The goal of an agent is to get the most reward points, and hence, it improves its performance.\n",
      "The robotic dog, which automatically learns the movement of his arms, is an example of Reinforcement learning.\n",
      "Before some years (about 40-50 years), machine learning was science fiction, but today it is the part of our daily life. Machine learning is making our day to day life easy from self-driving cars to Amazon virtual assistant \"Alexa\". However, the idea behind machine learning is so old and has a long history. Below some milestones are given which have occurred in the history of machine learning:\n",
      "Now machine learning has got a great advancement in its research, and it is present everywhere around us, such as self-driving cars, Amazon Alexa, Catboats, recommender system, and many more. It includes Supervised, unsupervised, and reinforcement learning with clustering, classification, decision tree, SVM algorithms, etc.\n",
      "Modern machine learning models can be used for making various predictions, including weather prediction, disease prediction, stock market analysis, etc.\n",
      "Before learning machine learning, you must have the basic knowledge of followings so that you can easily understand the concepts of machine learning:\n",
      "Our Machine learning tutorial is designed to help beginner and professionals.\n",
      "We assure you that you will not find any difficulty while learning our Machine learning tutorial. But if there is any mistake in this tutorial, kindly post the problem or error in the contact form so that we can improve it.\n",
      "Splunk\n",
      "SPSS\n",
      "Swagger\n",
      "Transact-SQL\n",
      "Tumblr\n",
      "ReactJS\n",
      "Regex\n",
      "Reinforcement Learning\n",
      "R Programming\n",
      "RxJS\n",
      "React Native\n",
      "Python Design Patterns\n",
      "Python Pillow\n",
      "Python Turtle\n",
      "Keras\n",
      "Aptitude\n",
      "Reasoning\n",
      "Verbal Ability\n",
      "Interview Questions\n",
      "Company Questions\n",
      "Artificial Intelligence\n",
      "AWS\n",
      "Selenium\n",
      "Cloud Computing\n",
      "Hadoop\n",
      "ReactJS\n",
      "Data Science\n",
      "Angular 7\n",
      "Blockchain\n",
      "Git\n",
      "Machine Learning\n",
      "DevOps\n",
      "DBMS\n",
      "Data Structures\n",
      "DAA\n",
      "Operating System\n",
      "Computer Network\n",
      "Compiler Design\n",
      "Computer Organization\n",
      "Discrete Mathematics\n",
      "Ethical Hacking\n",
      "Computer Graphics\n",
      "Software Engineering\n",
      "Web Technology\n",
      "Cyber Security\n",
      "Automata\n",
      "C Programming\n",
      "C++\n",
      "Java\n",
      ".Net\n",
      "Python\n",
      "Programs\n",
      "Control System\n",
      "Data Mining\n",
      "Data Warehouse\n",
      "JavaTpoint offers too many high quality services. Mail us on h[email protected], to get more information about given services.\n",
      "\n",
      "JavaTpoint offers college campus training on Core Java, Advance Java, .Net, Android, Hadoop, PHP, Web Technology and Python. Please mail your requirement at [email protected]. Duration: 1 week to 2 week\n",
      "Website Development\n",
      "Android Development\n",
      "Website Designing\n",
      "Digital Marketing\n",
      "Summer Training\n",
      "Industrial Training\n",
      "College Campus Training\n",
      "Address: G-13, 2nd Floor, Sec-3\n",
      "Noida, UP, 201301, India\n",
      "Contact No: 0120-4256464, 9990449935\n",
      "© Copyright 2011-2021 www.javatpoint.com. All rights reserved. Developed by JavaTpoint.\n"
     ]
    }
   ],
   "source": [
    "import requests\n",
    "from bs4 import BeautifulSoup\n",
    "\n",
    "# Define the URL of the website you want to scrape\n",
    "url = \"https://www.javatpoint.com/machine-learning\"\n",
    "\n",
    "# Send a GET request to the website\n",
    "response = requests.get(url)\n",
    "\n",
    "# Check if the request was successful\n",
    "if response.status_code == 200:\n",
    "    # Create a BeautifulSoup object and specify the parser\n",
    "    soup = BeautifulSoup(response.content, \"html.parser\")\n",
    "\n",
    "    # Scrape the desired content from the website\n",
    "    # Replace this code with your own logic to extract specific elements\n",
    "    title = soup.title.text.strip()\n",
    "    paragraphs = soup.find_all(\"p\")\n",
    "\n",
    "    # Print the scraped content\n",
    "    print(\"Title:\", title)\n",
    "    print(\"Paragraphs:\")\n",
    "    for paragraph in paragraphs:\n",
    "        print(paragraph.text.strip())\n",
    "\n",
    "else:\n",
    "    print(\"Failed to retrieve the webpage. Status code:\", response.status_code)"
   ]
  },
  {
   "cell_type": "code",
   "execution_count": 57,
   "id": "41df77d9",
   "metadata": {},
   "outputs": [
    {
     "name": "stdout",
     "output_type": "stream",
     "text": [
      "Scraped content saved to scraped_content.csv\n"
     ]
    }
   ],
   "source": [
    "import requests\n",
    "from bs4 import BeautifulSoup\n",
    "import csv\n",
    "\n",
    "# Define the URL of the website you want to scrape\n",
    "url = \"https://www.javatpoint.com/machine-learning\"\n",
    "\n",
    "# Send a GET request to the website\n",
    "response = requests.get(url)\n",
    "\n",
    "# Check if the request was successful\n",
    "if response.status_code == 200:\n",
    "    # Create a BeautifulSoup object and specify the parser\n",
    "    soup = BeautifulSoup(response.content, \"html.parser\")\n",
    "\n",
    "    # Scrape the desired content from the website\n",
    "    # Replace this code with your own logic to extract specific elements\n",
    "    title = soup.title.text.strip()\n",
    "    paragraphs = soup.find_all(\"p\")\n",
    "\n",
    "    # Prepare the data for CSV\n",
    "    data = [(\"Title\", title)]\n",
    "    for paragraph in paragraphs:\n",
    "        data.append((\"Paragraph\", paragraph.text.strip()))\n",
    "\n",
    "    # Define the filename for the CSV file\n",
    "    filename = \"scraped_content.csv\"\n",
    "\n",
    "    # Write the data to the CSV file\n",
    "    with open(filename, \"w\", newline=\"\", encoding=\"utf-8\") as file:\n",
    "        writer = csv.writer(file)\n",
    "        writer.writerows(data)\n",
    "\n",
    "    print(\"Scraped content saved to\", filename)\n",
    "\n",
    "else:\n",
    "    print(\"Failed to retrieve the webpage. Status code:\", response.status_code)"
   ]
  },
  {
   "cell_type": "code",
   "execution_count": null,
   "id": "742185b2",
   "metadata": {},
   "outputs": [],
   "source": []
  }
 ],
 "metadata": {
  "kernelspec": {
   "display_name": "Python 3 (ipykernel)",
   "language": "python",
   "name": "python3"
  },
  "language_info": {
   "codemirror_mode": {
    "name": "ipython",
    "version": 3
   },
   "file_extension": ".py",
   "mimetype": "text/x-python",
   "name": "python",
   "nbconvert_exporter": "python",
   "pygments_lexer": "ipython3",
   "version": "3.10.9"
  }
 },
 "nbformat": 4,
 "nbformat_minor": 5
}
